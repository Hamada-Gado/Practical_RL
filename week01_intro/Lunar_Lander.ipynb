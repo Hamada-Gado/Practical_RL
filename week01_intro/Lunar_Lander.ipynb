{
 "cells": [
  {
   "cell_type": "markdown",
   "metadata": {},
   "source": [
    "# To The Space and Beyond"
   ]
  },
  {
   "cell_type": "code",
   "execution_count": 1,
   "metadata": {},
   "outputs": [],
   "source": [
    "import os\n",
    "import joblib\n",
    "import numpy as np\n",
    "import gymnasium as gym\n",
    "import matplotlib.pyplot as plt\n",
    "from sklearn.neural_network import MLPRegressor, MLPClassifier\n",
    "\n",
    "from IPython.display import clear_output, HTML\n",
    "from gymnasium.wrappers.record_video import RecordVideo\n",
    "from pathlib import Path\n",
    "\n",
    "GAME = 'LunarLander-v2'"
   ]
  },
  {
   "cell_type": "code",
   "execution_count": 2,
   "metadata": {},
   "outputs": [
    {
     "name": "stdout",
     "output_type": "stream",
     "text": [
      "Observation space: Box([-1.5       -1.5       -5.        -5.        -3.1415927 -5.\n",
      " -0.        -0.       ], [1.5       1.5       5.        5.        3.1415927 5.        1.\n",
      " 1.       ], (8,), float32)\n",
      "Action space: Box(-1.0, 1.0, (2,), float32)\n"
     ]
    },
    {
     "data": {
      "image/png": "[encoded data removed]",
      "text/plain": [
       "<Figure size 640x480 with 1 Axes>"
      ]
     },
     "metadata": {},
     "output_type": "display_data"
    }
   ],
   "source": [
    "env = gym.make(GAME, render_mode=\"rgb_array\", continuous=True)\n",
    "\n",
    "env.reset()\n",
    "print(\"Observation space:\", env.observation_space)\n",
    "print(\"Action space:\", env.action_space)\n",
    "\n",
    "plt.imshow(env.render())\n",
    "\n",
    "env.close()"
   ]
  },
  {
   "cell_type": "code",
   "execution_count": 3,
   "metadata": {},
   "outputs": [],
   "source": [
    "def generate_session(env: gym.Env, agent: MLPRegressor | MLPClassifier, t_max=1000):\n",
    "    \"\"\"\n",
    "    Play a single game using agent neural network.\n",
    "    Terminate when game finishes or after :t_max: steps\n",
    "    \"\"\"\n",
    "    states, actions = [], []\n",
    "    total_reward = 0\n",
    "\n",
    "    s, _ = env.reset()\n",
    "\n",
    "    for _ in range(t_max):\n",
    "\n",
    "        if isinstance(agent, MLPRegressor):\n",
    "            a = agent.predict([s])[0]\n",
    "        elif isinstance(agent, MLPClassifier):\n",
    "            a = np.random.choice(range(env.action_space.n), p=agent.predict_proba([s])[0]) \n",
    "        else:\n",
    "            raise ValueError(\"agent must be MLPRegressor or MLPClassifier\")\n",
    "\n",
    "        new_s, r, terminated, truncated, _ = env.step(a)\n",
    "\n",
    "        states.append(s)\n",
    "        actions.append(a)\n",
    "        total_reward += r # type: ignore    \n",
    "\n",
    "        s = new_s\n",
    "        if terminated or truncated:\n",
    "            break\n",
    "    else:\n",
    "        print(\"Game was not finished\")\n",
    "        \n",
    "    return states, actions, total_reward\n"
   ]
  },
  {
   "cell_type": "code",
   "execution_count": 4,
   "metadata": {},
   "outputs": [],
   "source": [
    "\n",
    "def select_elites(states_batch, actions_batch, rewards_batch, percentile=50):\n",
    "    \"\"\"\n",
    "    Select states and actions from games that have rewards >= percentile\n",
    "    :param states_batch: list of lists of states, states_batch[session_i][t]\n",
    "    :param actions_batch: list of lists of actions, actions_batch[session_i][t]\n",
    "    :param rewards_batch: list of rewards, rewards_batch[session_i]\n",
    "\n",
    "    :returns: elite_states,elite_actions, both 1D lists of states and respective actions from elite sessions\n",
    "    \"\"\"\n",
    "\n",
    "    reward_threshold = np.percentile(rewards_batch, percentile)\n",
    "\n",
    "    elite_states = [s for i, game in enumerate(states_batch) if rewards_batch[i] > reward_threshold for s in game]\n",
    "    elite_actions = [a for i, game in enumerate(actions_batch) if rewards_batch[i] > reward_threshold for a in game]\n",
    "\n",
    "    return elite_states, elite_actions\n"
   ]
  },
  {
   "cell_type": "code",
   "execution_count": 5,
   "metadata": {},
   "outputs": [],
   "source": [
    "def show_progress(rewards_batch, log, percentile, reward_range=[-990, +10]):\n",
    "    \"\"\"\n",
    "    A convenience function that displays training progress.\n",
    "    No cool math here, just charts.\n",
    "    \"\"\"\n",
    "\n",
    "    mean_reward = np.mean(rewards_batch)\n",
    "    threshold = np.percentile(rewards_batch, percentile)\n",
    "    log.append([mean_reward, threshold])\n",
    "\n",
    "    clear_output(True)\n",
    "    print(\"mean reward = %.3f, threshold=%.3f\" % (mean_reward, threshold))\n",
    "    plt.figure(figsize=(12, 6))\n",
    "    plt.subplot(1, 2, 1)\n",
    "    plt.plot(list(zip(*log))[0], label=\"Mean rewards\")\n",
    "    plt.plot(list(zip(*log))[1], label=\"Reward thresholds\")\n",
    "    plt.legend()\n",
    "    plt.grid()\n",
    "\n",
    "    plt.subplot(1, 2, 2)\n",
    "    plt.hist(rewards_batch, range=reward_range)\n",
    "    plt.vlines(\n",
    "        [np.percentile(rewards_batch, percentile)],\n",
    "        [0],\n",
    "        [100],\n",
    "        label=\"percentile\",\n",
    "        color=\"red\",\n",
    "    )\n",
    "    plt.legend()\n",
    "    plt.grid()\n",
    "\n",
    "    plt.show()\n"
   ]
  },
  {
   "cell_type": "code",
   "execution_count": 6,
   "metadata": {},
   "outputs": [],
   "source": [
    "choice = int(input())\n",
    "\n",
    "if choice == 1:\n",
    "    env = gym.make(GAME, render_mode=\"rgb_array\", continuous=True)\n",
    "    agent = MLPRegressor(hidden_layer_sizes=(64, 64), activation='tanh', solver='adam', learning_rate_init=0.003)\n",
    "\n",
    "    agent.partial_fit([env.reset()[0]], [env.action_space.sample()])\n",
    "else:\n",
    "    env = gym.make(GAME, render_mode=\"rgb_array\", continuous=False)\n",
    "    agent = MLPClassifier(hidden_layer_sizes=(64, 64), activation='tanh', solver='adam', learning_rate_init=0.001)\n",
    "    \n",
    "    agent.partial_fit([env.reset()[0]], [env.action_space.sample()], classes=range(env.action_space.n))\n"
   ]
  },
  {
   "cell_type": "code",
   "execution_count": 7,
   "metadata": {},
   "outputs": [
    {
     "name": "stdout",
     "output_type": "stream",
     "text": [
      "mean reward = 144.421, threshold=237.203\n"
     ]
    },
    {
     "data": {
      "image/png": "[encoded data removed]",
      "text/plain": [
       "<Figure size 1200x600 with 2 Axes>"
      ]
     },
     "metadata": {},
     "output_type": "display_data"
    },
    {
     "name": "stdout",
     "output_type": "stream",
     "text": [
      "Yay, dats gud enuf for mai boi\n",
      "Training interrupted\n"
     ]
    }
   ],
   "source": [
    "n_sessions = 200\n",
    "percentile = 80\n",
    "log = []\n",
    "\n",
    "try:\n",
    "    for i in range(100):\n",
    "        sessions = joblib.Parallel(n_jobs=-1, backend='multiprocessing')\\\n",
    "                (joblib.delayed(generate_session)(env, agent, 10**5) for _ in range(n_sessions))\n",
    "    \n",
    "        states_batch, actions_batch, rewards_batch = zip(*sessions)\n",
    "    \n",
    "        elite_states, elite_actions = select_elites(states_batch, actions_batch, rewards_batch, percentile)\n",
    "    \n",
    "        agent.partial_fit(elite_states, elite_actions)\n",
    "    \n",
    "        show_progress(\n",
    "            rewards_batch, log, percentile, reward_range=[np.min(rewards_batch), np.max(rewards_batch)]\n",
    "        )\n",
    "    \n",
    "        if np.mean(rewards_batch) > 50:\n",
    "            print(\"Yay, dats gud enuf for mai boi\")\n",
    "        if np.mean(rewards_batch) > 200:\n",
    "            print(\"Now we're a pro\")\n",
    "            \n",
    "except KeyboardInterrupt:\n",
    "    print(\"Training interrupted\")"
   ]
  },
  {
   "cell_type": "code",
   "execution_count": null,
   "metadata": {},
   "outputs": [],
   "source": [
    "os.makedirs('models', exist_ok=True)\n",
    "joblib.dump(agent, 'models/LunarLander-v2-agent-noncontinuous.joblib')"
   ]
  },
  {
   "cell_type": "code",
   "execution_count": null,
   "metadata": {},
   "outputs": [],
   "source": [
    "with RecordVideo(\n",
    "    env=gym.make(GAME, render_mode=\"rgb_array\"),\n",
    "    video_folder=f\"./videos/{GAME}\",\n",
    "    episode_trigger=lambda episode_number: True,\n",
    ") as env_monitor:\n",
    "    sessions = [generate_session(env_monitor, agent, t_max=10**8) for _ in range(5)]"
   ]
  },
  {
   "cell_type": "code",
   "execution_count": 157,
   "metadata": {},
   "outputs": [
    {
     "data": {
      "text/html": [
       "\n",
       "<video width=\"640\" height=\"480\" controls>\n",
       "  <source src=\"videos/LunarLander-v2/rl-video-episode-4.mp4\" type=\"video/mp4\">\n",
       "</video>"
      ],
      "text/plain": [
       "<IPython.core.display.HTML object>"
      ]
     },
     "execution_count": 157,
     "metadata": {},
     "output_type": "execute_result"
    }
   ],
   "source": [
    "video_paths = sorted([s for s in Path(f\"videos/{GAME}\").iterdir() if s.suffix == \".mp4\"])\n",
    "video_path = np.random.choice(video_paths) # type: ignore\n",
    "\n",
    "data_url = str(video_path)\n",
    "\n",
    "HTML(\n",
    "    f\"\"\"\n",
    "<video width=\"640\" height=\"480\" controls>\n",
    "  <source src=\"{data_url}\" type=\"video/mp4\">\n",
    "</video>\"\"\" \n",
    ")"
   ]
  },
  {
   "cell_type": "code",
   "execution_count": null,
   "metadata": {},
   "outputs": [],
   "source": [
    "from gymnasium.utils import play\n",
    "play.play(gym.make(GAME, render_mode='rgb_array'), zoom=3, keys_to_action={'w': 3, 'e': 2, 'r': 1})"
   ]
  }
 ],
 "metadata": {
  "kernelspec": {
   "display_name": "env",
   "language": "python",
   "name": "python3"
  },
  "language_info": {
   "codemirror_mode": {
    "name": "ipython",
    "version": 3
   },
   "file_extension": ".py",
   "mimetype": "text/x-python",
   "name": "python",
   "nbconvert_exporter": "python",
   "pygments_lexer": "ipython3",
   "version": "3.10.12"
  }
 },
 "nbformat": 4,
 "nbformat_minor": 2
}
