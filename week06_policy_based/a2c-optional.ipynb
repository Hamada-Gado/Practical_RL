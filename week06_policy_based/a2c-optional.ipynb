{
  "cells": [
    {
      "cell_type": "code",
      "execution_count": 19,
      "metadata": {
        "id": "o4vBVdNx2EPr"
      },
      "outputs": [],
      "source": [
        "import sys, os\n",
        "if 'google.colab' in sys.modules and not os.path.exists('.setup_complete'):\n",
        "    # Install xvfb and our launcher script for it\n",
        "    !apt-get install -y xvfb\n",
        "    !wget -q https://raw.githubusercontent.com/yandexdataschool/Practical_RL/master/xvfb -O ../xvfb\n",
        "\n",
        "    # Download dependencies from Github\n",
        "    !wget https://raw.githubusercontent.com/yandexdataschool/Practical_RL/master/week06_policy_based/atari_wrappers.py\n",
        "    !wget https://raw.githubusercontent.com/yandexdataschool/Practical_RL/master/week06_policy_based/env_batch.py\n",
        "    !wget https://raw.githubusercontent.com/yandexdataschool/Practical_RL/master/week06_policy_based/runners.py\n",
        "\n",
        "    # Update the gym environment to be compatible with the Atari environment\n",
        "    !pip install -q gymnasium[atari,accept-rom-license]\n",
        "    !pip install -q tensorboardX\n",
        "\n",
        "    !touch .setup_complete\n",
        "\n",
        "# This code creates a virtual display to draw game images on.\n",
        "# It will have no effect if your machine has a monitor.\n",
        "if type(os.environ.get(\"DISPLAY\")) is not str or len(os.environ.get(\"DISPLAY\")) == 0:\n",
        "    !bash ../xvfb start\n",
        "    os.environ['DISPLAY'] = ':1'"
      ]
    },
    {
      "cell_type": "markdown",
      "metadata": {
        "id": "O_iJbFWQ2EPs"
      },
      "source": [
        "# Implementing Advantage-Actor Critic (A2C)\n"
      ]
    },
    {
      "cell_type": "markdown",
      "metadata": {
        "id": "16ownLDJ2EPs"
      },
      "source": [
        "In this notebook you will implement Advantage Actor Critic algorithm that trains on a batch of Atari 2600 environments running in parallel.\n",
        "\n",
        "Firstly, we will use environment wrappers implemented in file `atari_wrappers.py`. These wrappers preprocess observations (resize, grayscale, take max between frames, skip frames and stack them together) and rewards. Some of the wrappers help to reset the environment and pass `done` flag equal to `True` when agent dies.\n",
        "File `env_batch.py` includes implementation of `ParallelEnvBatch` class that allows to run multiple environments in parallel. To create an environment we can use `nature_dqn_env` function. Note that if you are using\n",
        "PyTorch and not using `tensorboardX` you will need to implement a wrapper that will log **raw** total rewards that the _unwrapped_ environment returns and redefine the implemention of `nature_dqn_env` function here.\n"
      ]
    },
    {
      "cell_type": "code",
      "execution_count": 44,
      "metadata": {
        "id": "uScP-zu12EPt"
      },
      "outputs": [
        {
          "name": "stderr",
          "output_type": "stream",
          "text": [
            "A.L.E: Arcade Learning Environment (version 0.8.1+53f58b7)\n",
            "[Powered by Stella]\n"
          ]
        },
        {
          "name": "stderr",
          "output_type": "stream",
          "text": [
            "A.L.E: Arcade Learning Environment (version 0.8.1+53f58b7)\n",
            "[Powered by Stella]\n",
            "A.L.E: Arcade Learning Environment (version 0.8.1+53f58b7)\n",
            "[Powered by Stella]\n",
            "A.L.E: Arcade Learning Environment (version 0.8.1+53f58b7)\n",
            "[Powered by Stella]\n",
            "A.L.E: Arcade Learning Environment (version 0.8.1+53f58b7)\n",
            "[Powered by Stella]\n",
            "A.L.E: Arcade Learning Environment (version 0.8.1+53f58b7)\n",
            "[Powered by Stella]\n",
            "A.L.E: Arcade Learning Environment (version 0.8.1+53f58b7)\n",
            "[Powered by Stella]\n",
            "A.L.E: Arcade Learning Environment (version 0.8.1+53f58b7)\n",
            "[Powered by Stella]\n"
          ]
        }
      ],
      "source": [
        "import numpy as np\n",
        "import gymnasium as gym\n",
        "from atari_wrappers import nature_dqn_env\n",
        "\n",
        "\n",
        "env_name = \"SpaceInvadersNoFrameskip-v4\"\n",
        "nenvs = 8  # change this if you have more than 8 CPU ;)\n",
        "summaries = \"Tensorboard\"\n",
        "\n",
        "env = nature_dqn_env(env_name, nenvs=nenvs, summaries=summaries)\n",
        "\n",
        "n_actions = env.action_space.spaces[0].n\n",
        "obs, _ = env.reset()\n",
        "assert obs.shape == (nenvs, 4, 84, 84)\n",
        "assert obs.dtype == np.float32\n"
      ]
    },
    {
      "cell_type": "markdown",
      "metadata": {
        "id": "jiWeYgmd2EPt"
      },
      "source": [
        "Next, we will need to implement a model that predicts logits and values. It is suggested that you use the same model as in [Nature DQN paper](https://www.nature.com/articles/nature14236) with a modification that instead of having a single output layer, it will have two output layers taking as input the output of the last hidden layer. **Note** that this model is different from the model you used in homework where you implemented DQN. You can use your favorite deep learning framework here. We suggest that you use orthogonal initialization with parameter $\\sqrt{2}$ for kernels and initialize biases with zeros.\n"
      ]
    },
    {
      "cell_type": "code",
      "execution_count": 98,
      "metadata": {
        "id": "FIkJ7z7TiWS4"
      },
      "outputs": [],
      "source": [
        "import torch as T\n",
        "import torch.nn as nn\n",
        "import torch.nn.functional as F\n",
        "import torch.optim as optim\n",
        "from torch.distributions import Categorical\n",
        "import numpy as np\n",
        "\n",
        "\n",
        "class Network(nn.Module):\n",
        "    def __init__(\n",
        "        self,\n",
        "        in_channels=4,\n",
        "        n_actions=6,\n",
        "    ) -> None:\n",
        "        super().__init__()\n",
        "\n",
        "        self.conv1 = nn.Conv2d(in_channels, 32, 8, stride=4)\n",
        "        self.conv2 = nn.Conv2d(32, 64, 4, stride=2)\n",
        "        self.conv3 = nn.Conv2d(64, 64, 3, stride=1)\n",
        "        self.flatten = nn.Flatten()\n",
        "        self.fc = nn.Linear(7 * 7 * 64, 512)\n",
        "        self.actions = nn.Linear(512, n_actions)\n",
        "        self.value = nn.Linear(512, 1)\n",
        "\n",
        "        self.initialize_weights()\n",
        "\n",
        "    def initialize_weights(self):\n",
        "        for m in self.modules():\n",
        "            if isinstance(m, nn.Conv2d):\n",
        "                nn.init.kaiming_normal_(m.weight.data)\n",
        "                if m.bias is not None:\n",
        "                    m.bias.data.zero_()\n",
        "            elif isinstance(m, nn.Linear):\n",
        "                nn.init.xavier_uniform_(m.weight.data)\n",
        "                m.bias.data.zero_()\n",
        "\n",
        "    def forward(self, obs):\n",
        "        out = self.conv1(obs)\n",
        "        out = F.relu(out)\n",
        "        out = self.conv2(out)\n",
        "        out = F.relu(out)\n",
        "        out = self.conv3(out)\n",
        "        out = F.relu(out)\n",
        "        out = self.flatten(out)\n",
        "        out = self.fc(out)\n",
        "        out = F.relu(out)\n",
        "\n",
        "        logits = self.actions(out)\n",
        "        value = self.value(out)\n",
        "\n",
        "        return logits, value"
      ]
    },
    {
      "cell_type": "markdown",
      "metadata": {
        "id": "pA2VlyZ32EPt"
      },
      "source": [
        "You will also need to define and use a policy that wraps the model. While the model computes logits for all actions, the policy will sample actions and also compute their log probabilities. `policy.act` should return a dictionary of all the arrays that are needed to interact with an environment and train the model.\n",
        "Note that actions must be an `np.ndarray` while the other\n",
        "tensors need to have the type determined by your deep learning framework.\n"
      ]
    },
    {
      "cell_type": "code",
      "execution_count": 64,
      "metadata": {
        "id": "dtHP-Fo72EPt"
      },
      "outputs": [],
      "source": [
        "class Policy:\n",
        "    def __init__(self, model: Network):\n",
        "        self.model = model\n",
        "\n",
        "    def act(self, inputs):\n",
        "        # Implement a policy by calling the model, sampling actions and computing their log probs.\n",
        "        # Should return a dict containing keys ['actions', 'logits', 'log_probs', 'values'].\n",
        "        inputs = T.from_numpy(inputs).float()\n",
        "\n",
        "        logits, values = self.model(inputs)\n",
        "        values = values.squeeze(-1)\n",
        "        dist = Categorical(logits=logits)\n",
        "        actions = dist.sample()\n",
        "        log_probs = dist.log_prob(actions)\n",
        "\n",
        "        return {\n",
        "            \"actions\": actions,\n",
        "            \"logits\": logits,\n",
        "            \"log_probs\": log_probs,\n",
        "            \"values\": values,\n",
        "        }"
      ]
    },
    {
      "cell_type": "markdown",
      "metadata": {
        "id": "2oPCQwsd2EPt"
      },
      "source": [
        "Next will pass the environment and policy to a runner that collects partial trajectories from the environment.\n",
        "The class that does is is already implemented for you.\n"
      ]
    },
    {
      "cell_type": "code",
      "execution_count": 65,
      "metadata": {
        "id": "fj-fKr_A2EPt"
      },
      "outputs": [],
      "source": [
        "from runners import EnvRunner"
      ]
    },
    {
      "cell_type": "code",
      "execution_count": 66,
      "metadata": {},
      "outputs": [],
      "source": [
        "model = Network(n_actions=n_actions)\n",
        "policy = Policy(model)\n",
        "runner = EnvRunner(env, policy, nsteps=5)"
      ]
    },
    {
      "cell_type": "code",
      "execution_count": 67,
      "metadata": {},
      "outputs": [
        {
          "data": {
            "text/plain": [
              "dict_keys(['actions', 'logits', 'log_probs', 'values', 'observations', 'rewards', 'resets', 'state'])"
            ]
          },
          "execution_count": 67,
          "metadata": {},
          "output_type": "execute_result"
        }
      ],
      "source": [
        "# generates new rollout\n",
        "trajectory = runner.get_next()\n",
        "trajectory.keys()"
      ]
    },
    {
      "cell_type": "code",
      "execution_count": 68,
      "metadata": {},
      "outputs": [
        {
          "name": "stdout",
          "output_type": "stream",
          "text": [
            "All tests passed!\n"
          ]
        }
      ],
      "source": [
        "# Sanity checks\n",
        "assert 'logits' in trajectory, \"Not found: policy didn't provide logits\"\n",
        "assert 'log_probs' in trajectory, \"Not found: policy didn't provide log_probs of selected actions\"\n",
        "assert 'values' in trajectory, \"Not found: policy didn't provide critic estimations\"\n",
        "assert trajectory['logits'][0].shape == (nenvs, n_actions), \"logits wrong shape\"\n",
        "assert trajectory['log_probs'][0].shape == (nenvs,), \"log_probs wrong shape\"\n",
        "assert trajectory['values'][0].shape == (nenvs,), \"values wrong shape\"\n",
        "\n",
        "for key in trajectory.keys():\n",
        "    if key == 'state': continue\n",
        "    assert len(trajectory[key]) == 5, f\"wrong number of steps in {key}\"\n",
        "    \n",
        "print(\"All tests passed!\")"
      ]
    },
    {
      "cell_type": "markdown",
      "metadata": {
        "id": "_9JehIbH2EPt"
      },
      "source": [
        "This runner interacts with the environment for a given number of steps and returns a dictionary containing\n",
        "keys\n",
        "\n",
        "-   'observations'\n",
        "-   'rewards'\n",
        "-   'resets'\n",
        "-   'actions'\n",
        "-   all other keys that you defined in `Policy`\n",
        "\n",
        "under each of these keys there is a python `list` of interactions with the environment. This list has length $T$ that is size of partial trajectory. Partial trajectory for given moment `t` is part of `ComputeValueTargets.__call__` input argument `trajectory` from moment `t` to the end (i.e. it's different at each iteration in the algorithm).\n"
      ]
    },
    {
      "cell_type": "markdown",
      "metadata": {
        "id": "iY7FB6s72EPu"
      },
      "source": [
        "To train the part of the model that predicts state values you will need to compute the value targets.\n",
        "Any callable could be passed to `EnvRunner` to be applied to each partial trajectory after it is collected.\n",
        "Thus, we can implement and use `ComputeValueTargets` callable.\n",
        "The formula for the value targets is simple:\n",
        "\n",
        "$$\n",
        "\\hat v(s_t) = \\left( \\sum_{t'=0}^{T - 1} \\gamma^{t'}r_{t+t'} \\right) + \\gamma^T \\hat{v}(s_{t+T}),\n",
        "$$\n",
        "\n",
        "In implementation, however, do not forget to use\n",
        "`trajectory['resets']` flags to check if you need to add the value targets at the next step when\n",
        "computing value targets for the current step. You can access `trajectory['state']['latest_observation']`\n",
        "to get last observations in partial trajectory &mdash; $s_{t+T}$.\n"
      ]
    },
    {
      "cell_type": "code",
      "execution_count": 69,
      "metadata": {
        "id": "4CbDi3GZ2EPu"
      },
      "outputs": [],
      "source": [
        "class ComputeValueTargets:\n",
        "    def __init__(self, policy, gamma=0.99):\n",
        "        self.policy = policy\n",
        "        self.gamma = gamma\n",
        "\n",
        "    def __call__(self, trajectory):\n",
        "        \"\"\"Compute value targets for a given partial trajectory.\"\"\"\n",
        "\n",
        "        # This method should modify trajectory inplace by adding\n",
        "        # an item with key 'value_targets' to it.\n",
        "\n",
        "        trajectory[\"value_targets\"] = [\n",
        "            T.zeros_like(trajectory[\"values\"][i])\n",
        "            for i in range(trajectory[\"state\"][\"env_steps\"])\n",
        "        ]\n",
        "        trajectory[\"value_targets\"][-1] = trajectory[\"values\"][-1] * T.tensor(\n",
        "            1 - trajectory[\"resets\"][-1]\n",
        "        )\n",
        "        for t in reversed(range(len(trajectory[\"rewards\"]) - 1)):\n",
        "            trajectory[\"value_targets\"][t] = T.tensor(\n",
        "                trajectory[\"rewards\"][t]\n",
        "            ) + self.gamma * trajectory[\"value_targets\"][t + 1] * T.tensor(\n",
        "                1 - trajectory[\"resets\"][t]\n",
        "            )"
      ]
    },
    {
      "cell_type": "markdown",
      "metadata": {
        "id": "9_d9OYyz2EPu"
      },
      "source": [
        "After computing value targets we will transform lists of interactions into tensors\n",
        "with the first dimension `batch_size` which is equal to `env_steps * num_envs`, i.e. you essentially need\n",
        "to flatten the first two dimensions.\n"
      ]
    },
    {
      "cell_type": "code",
      "execution_count": 70,
      "metadata": {
        "id": "IEnqWlHh2EPu"
      },
      "outputs": [],
      "source": [
        "class MergeTimeBatch:\n",
        "    \"\"\"Merges first two axes typically representing time and env batch.\"\"\"\n",
        "\n",
        "    def __call__(self, trajectory):\n",
        "        # Modify trajectory inplace.\n",
        "        for key in [\"log_probs\", \"value_targets\", \"values\"]:\n",
        "            trajectory[key] = T.stack(trajectory[key], dim=0).view(-1).float()"
      ]
    },
    {
      "cell_type": "code",
      "execution_count": 71,
      "metadata": {
        "id": "-2CwwzLl2EPu"
      },
      "outputs": [],
      "source": [
        "model = Network()\n",
        "policy = Policy(model)\n",
        "runner = EnvRunner(\n",
        "    env=env,\n",
        "    policy=policy,\n",
        "    nsteps=5,\n",
        "    transforms=[\n",
        "        ComputeValueTargets(policy),\n",
        "        MergeTimeBatch(),\n",
        "    ],\n",
        ")"
      ]
    },
    {
      "cell_type": "code",
      "execution_count": 72,
      "metadata": {},
      "outputs": [],
      "source": [
        "trajectory = runner.get_next()"
      ]
    },
    {
      "cell_type": "code",
      "execution_count": 73,
      "metadata": {},
      "outputs": [
        {
          "name": "stdout",
          "output_type": "stream",
          "text": [
            "All tests passed!\n"
          ]
        }
      ],
      "source": [
        "# More sanity checks\n",
        "assert 'value_targets' in trajectory, \"Value targets not found\"\n",
        "assert trajectory['log_probs'].shape == (5 * nenvs,)\n",
        "assert trajectory['value_targets'].shape == (5 * nenvs,)\n",
        "assert trajectory['values'].shape == (5 * nenvs,)\n",
        "\n",
        "assert trajectory['log_probs'].requires_grad, \"Gradients are not available for actor head!\"\n",
        "assert trajectory['values'].requires_grad, \"Gradients are not available for critic head!\"\n",
        "\n",
        "print(\"All tests passed!\")"
      ]
    },
    {
      "cell_type": "markdown",
      "metadata": {
        "id": "IuYy-8Ri2EPu"
      },
      "source": [
        "Now is the time to implement the advantage actor critic algorithm itself. You can look into your lecture,\n",
        "[Mnih et al. 2016](https://arxiv.org/abs/1602.01783) paper, and [lecture](https://www.youtube.com/watch?v=Tol_jw5hWnI&list=PLkFD6_40KJIxJMR-j5A1mkxK26gh_qg37&index=20) by Sergey Levine.\n"
      ]
    },
    {
      "cell_type": "code",
      "execution_count": 74,
      "metadata": {
        "id": "hxFLzyRX2EPu"
      },
      "outputs": [],
      "source": [
        "class A2C:\n",
        "    def __init__(self,\n",
        "                 policy,\n",
        "                 optimizer,\n",
        "                 value_loss_coef=0.25,\n",
        "                 entropy_coef=0.01,\n",
        "                 max_grad_norm=0.5):\n",
        "        self.policy = policy\n",
        "        self.optimizer = optimizer\n",
        "        self.value_loss_coef = value_loss_coef\n",
        "        self.entropy_coef = entropy_coef\n",
        "        self.max_grad_norm = max_grad_norm\n",
        "\n",
        "    def policy_loss(self, trajectory):\n",
        "        # You will need to compute advantages here.\n",
        "        advantages = trajectory[\"value_targets\"] - trajectory[\"values\"]\n",
        "        policy_loss = -trajectory[\"log_probs\"] * advantages.detach()\n",
        "        \n",
        "        return policy_loss.mean()\n",
        "\n",
        "    def value_loss(self, trajectory):\n",
        "        return F.mse_loss(trajectory[\"values\"], trajectory[\"value_targets\"])\n",
        "\n",
        "    def loss(self, trajectory):\n",
        "        return (\n",
        "            self.policy_loss(trajectory)\n",
        "            + self.value_loss_coef * self.value_loss(trajectory)\n",
        "            - self.entropy_coef * trajectory[\"log_probs\"].mean()\n",
        "        )\n",
        "\n",
        "    def step(self, trajectory):\n",
        "        self.optimizer.zero_grad()\n",
        "        loss = self.loss(trajectory)\n",
        "        loss.backward()\n",
        "        nn.utils.clip_grad_norm_(self.policy.model.parameters(), self.max_grad_norm)\n",
        "        self.optimizer.step()"
      ]
    },
    {
      "cell_type": "markdown",
      "metadata": {
        "id": "JIMtFZuG2EPu"
      },
      "source": [
        "Now you can train your model. With reasonable hyperparameters training on a single GTX1080 for 10 million steps across all batched environments (which translates to about 5 hours of wall clock time)\n",
        "it should be possible to achieve _average raw reward over last 100 episodes_ (the average is taken over 100 last\n",
        "episodes in each environment in the batch) of about 600. You should plot this quantity with respect to\n",
        "`runner.step_var` &mdash; the number of interactions with all environments. It is highly\n",
        "encouraged to also provide plots of the following quantities (these are useful for debugging as well):\n",
        "\n",
        "-   [Coefficient of Determination](https://en.wikipedia.org/wiki/Coefficient_of_determination) between\n",
        "    value targets and value predictions\n",
        "-   Entropy of the policy $\\pi$\n",
        "-   Value loss\n",
        "-   Policy loss\n",
        "-   Value targets\n",
        "-   Value predictions\n",
        "-   Gradient norm\n",
        "-   Advantages\n",
        "-   A2C loss\n",
        "\n",
        "For optimization we suggest you use RMSProp with learning rate starting from 7e-4 and linearly decayed to 0, smoothing constant (alpha in PyTorch and decay in TensorFlow) equal to 0.99 and epsilon equal to 1e-5.\n"
      ]
    },
    {
      "cell_type": "code",
      "execution_count": 100,
      "metadata": {},
      "outputs": [
        {
          "name": "stdout",
          "output_type": "stream",
          "text": [
            "The tensorboard extension is already loaded. To reload it, use:\n",
            "  %reload_ext tensorboard\n"
          ]
        },
        {
          "data": {
            "text/plain": [
              "Reusing TensorBoard on port 6006 (pid 50347), started 3:35:29 ago. (Use '!kill 50347' to kill it.)"
            ]
          },
          "metadata": {},
          "output_type": "display_data"
        },
        {
          "data": {
            "text/html": [
              "\n",
              "      <iframe id=\"tensorboard-frame-68f96dde288cf6e0\" width=\"100%\" height=\"800\" frameborder=\"0\">\n",
              "      </iframe>\n",
              "      <script>\n",
              "        (function() {\n",
              "          const frame = document.getElementById(\"tensorboard-frame-68f96dde288cf6e0\");\n",
              "          const url = new URL(\"http://localhost\");\n",
              "          const port = 6006;\n",
              "          if (port) {\n",
              "            url.port = port;\n",
              "          }\n",
              "          frame.src = url;\n",
              "        })();\n",
              "      </script>\n",
              "    "
            ],
            "text/plain": [
              "<IPython.core.display.HTML object>"
            ]
          },
          "metadata": {},
          "output_type": "display_data"
        }
      ],
      "source": [
        "#if you use TensorboardSummaries\n",
        "%load_ext tensorboard\n",
        "%tensorboard --logdir logs"
      ]
    },
    {
      "cell_type": "code",
      "execution_count": 102,
      "metadata": {},
      "outputs": [
        {
          "name": "stderr",
          "output_type": "stream",
          "text": [
            "A.L.E: Arcade Learning Environment (version 0.8.1+53f58b7)\n",
            "[Powered by Stella]\n",
            "A.L.E: Arcade Learning Environment (version 0.8.1+53f58b7)\n",
            "[Powered by Stella]\n"
          ]
        },
        {
          "name": "stderr",
          "output_type": "stream",
          "text": [
            "A.L.E: Arcade Learning Environment (version 0.8.1+53f58b7)\n",
            "[Powered by Stella]\n",
            "A.L.E: Arcade Learning Environment (version 0.8.1+53f58b7)\n",
            "[Powered by Stella]\n",
            "A.L.E: Arcade Learning Environment (version 0.8.1+53f58b7)\n",
            "[Powered by Stella]\n",
            "A.L.E: Arcade Learning Environment (version 0.8.1+53f58b7)\n",
            "[Powered by Stella]\n",
            "A.L.E: Arcade Learning Environment (version 0.8.1+53f58b7)\n",
            "[Powered by Stella]\n",
            "A.L.E: Arcade Learning Environment (version 0.8.1+53f58b7)\n",
            "[Powered by Stella]\n"
          ]
        }
      ],
      "source": [
        "env_name = \"SpaceInvadersNoFrameskip-v4\"\n",
        "nenvs = 8\n",
        "summaries = \"Tensorboard\"\n",
        "\n",
        "env = nature_dqn_env(env_name, nenvs=nenvs, summaries=summaries)\n",
        "\n",
        "n_actions = env.action_space.spaces[0].n\n",
        "obs, _ = env.reset()\n",
        "\n",
        "model = Network(obs.shape[1], n_actions)\n",
        "\n",
        "policy = Policy(model)\n",
        "runner = EnvRunner(\n",
        "    env, policy, nsteps=10, transforms=[ComputeValueTargets(policy), MergeTimeBatch()]\n",
        ")\n",
        "\n",
        "optimizer = optim.Adam(policy.model.parameters(), lr=7e-4, eps=1e-5)\n",
        "\n",
        "epoch = 0\n",
        "num_epochs = int(1e5)\n",
        "\n",
        "lr_lambda = lambda epoch: 1 - epoch / num_epochs\n",
        "scheduler = optim.lr_scheduler.LambdaLR(optimizer, lr_lambda)\n",
        "\n",
        "best_mean_reward = 95\n",
        "\n",
        "a2c = A2C(policy, optimizer)"
      ]
    },
    {
      "cell_type": "code",
      "execution_count": 109,
      "metadata": {},
      "outputs": [],
      "source": [
        "def evaluate(env, policy, n_games=1, t_max=10000):\n",
        "    '''\n",
        "    Plays n_games and returns rewards\n",
        "    '''\n",
        "    rewards = []\n",
        "    \n",
        "    for _ in range(n_games):\n",
        "        s, _ = env.reset()\n",
        "        \n",
        "        R = 0\n",
        "        for _ in range(t_max):\n",
        "            action = policy.act(np.array([s]))[\"actions\"][0]\n",
        "            \n",
        "            s, r, terminated, truncated, _ = env.step(action)\n",
        "            done = terminated or truncated\n",
        "            \n",
        "            R += r\n",
        "            if done:\n",
        "                break\n",
        "\n",
        "        rewards.append(R)\n",
        "    return np.array(rewards)\n",
        "\n",
        "\n",
        "eval_env = nature_dqn_env(\n",
        "    env_name,\n",
        "    nenvs=None,\n",
        "    clip_reward=False,\n",
        "    summaries=False,\n",
        ")"
      ]
    },
    {
      "cell_type": "code",
      "execution_count": 131,
      "metadata": {},
      "outputs": [
        {
          "name": "stderr",
          "output_type": "stream",
          "text": [
            " 24%|██▍       | 20009/84000 [57:10<3:02:50,  5.83it/s]  \n"
          ]
        },
        {
          "ename": "KeyboardInterrupt",
          "evalue": "",
          "output_type": "error",
          "traceback": [
            "\u001b[0;31m---------------------------------------------------------------------------\u001b[0m",
            "\u001b[0;31mKeyboardInterrupt\u001b[0m                         Traceback (most recent call last)",
            "Cell \u001b[0;32mIn[131], line 9\u001b[0m\n\u001b[1;32m      6\u001b[0m os\u001b[38;5;241m.\u001b[39mmakedirs(save_dir, exist_ok\u001b[38;5;241m=\u001b[39m\u001b[38;5;28;01mTrue\u001b[39;00m)\n\u001b[1;32m      8\u001b[0m \u001b[38;5;28;01mfor\u001b[39;00m epoch \u001b[38;5;129;01min\u001b[39;00m trange(epoch, num_epochs):\n\u001b[0;32m----> 9\u001b[0m     trajectory \u001b[38;5;241m=\u001b[39m \u001b[43mrunner\u001b[49m\u001b[38;5;241;43m.\u001b[39;49m\u001b[43mget_next\u001b[49m\u001b[43m(\u001b[49m\u001b[43m)\u001b[49m\n\u001b[1;32m     10\u001b[0m     a2c\u001b[38;5;241m.\u001b[39mstep(trajectory)\n\u001b[1;32m     11\u001b[0m     scheduler\u001b[38;5;241m.\u001b[39mstep()\n",
            "File \u001b[0;32m~/SharedDisk/ai_courses/Practical_RL/week06_policy_based/runners.py:42\u001b[0m, in \u001b[0;36mEnvRunner.get_next\u001b[0;34m(self)\u001b[0m\n\u001b[1;32m     40\u001b[0m \u001b[38;5;28;01mfor\u001b[39;00m i \u001b[38;5;129;01min\u001b[39;00m \u001b[38;5;28mrange\u001b[39m(\u001b[38;5;28mself\u001b[39m\u001b[38;5;241m.\u001b[39mnsteps):\n\u001b[1;32m     41\u001b[0m     observations\u001b[38;5;241m.\u001b[39mappend(\u001b[38;5;28mself\u001b[39m\u001b[38;5;241m.\u001b[39mstate[\u001b[38;5;124m\"\u001b[39m\u001b[38;5;124mlatest_observation\u001b[39m\u001b[38;5;124m\"\u001b[39m])\n\u001b[0;32m---> 42\u001b[0m     act \u001b[38;5;241m=\u001b[39m \u001b[38;5;28;43mself\u001b[39;49m\u001b[38;5;241;43m.\u001b[39;49m\u001b[43mpolicy\u001b[49m\u001b[38;5;241;43m.\u001b[39;49m\u001b[43mact\u001b[49m\u001b[43m(\u001b[49m\u001b[38;5;28;43mself\u001b[39;49m\u001b[38;5;241;43m.\u001b[39;49m\u001b[43mstate\u001b[49m\u001b[43m[\u001b[49m\u001b[38;5;124;43m\"\u001b[39;49m\u001b[38;5;124;43mlatest_observation\u001b[39;49m\u001b[38;5;124;43m\"\u001b[39;49m\u001b[43m]\u001b[49m\u001b[43m)\u001b[49m\n\u001b[1;32m     43\u001b[0m     \u001b[38;5;28;01mif\u001b[39;00m \u001b[38;5;124m\"\u001b[39m\u001b[38;5;124mactions\u001b[39m\u001b[38;5;124m\"\u001b[39m \u001b[38;5;129;01mnot\u001b[39;00m \u001b[38;5;129;01min\u001b[39;00m act:\n\u001b[1;32m     44\u001b[0m         \u001b[38;5;28;01mraise\u001b[39;00m \u001b[38;5;167;01mValueError\u001b[39;00m(\n\u001b[1;32m     45\u001b[0m             \u001b[38;5;124m\"\u001b[39m\u001b[38;5;124mresult of policy.act must contain \u001b[39m\u001b[38;5;124m'\u001b[39m\u001b[38;5;124mactions\u001b[39m\u001b[38;5;124m'\u001b[39m\u001b[38;5;124m \u001b[39m\u001b[38;5;124m\"\u001b[39m\n\u001b[1;32m     46\u001b[0m             \u001b[38;5;124mf\u001b[39m\u001b[38;5;124m\"\u001b[39m\u001b[38;5;124mbut has keys \u001b[39m\u001b[38;5;132;01m{\u001b[39;00m\u001b[38;5;28mlist\u001b[39m(act\u001b[38;5;241m.\u001b[39mkeys())\u001b[38;5;132;01m}\u001b[39;00m\u001b[38;5;124m\"\u001b[39m\n\u001b[1;32m     47\u001b[0m         )\n",
            "Cell \u001b[0;32mIn[64], line 10\u001b[0m, in \u001b[0;36mPolicy.act\u001b[0;34m(self, inputs)\u001b[0m\n\u001b[1;32m      5\u001b[0m \u001b[38;5;28;01mdef\u001b[39;00m \u001b[38;5;21mact\u001b[39m(\u001b[38;5;28mself\u001b[39m, inputs):\n\u001b[1;32m      6\u001b[0m     \u001b[38;5;66;03m# Implement a policy by calling the model, sampling actions and computing their log probs.\u001b[39;00m\n\u001b[1;32m      7\u001b[0m     \u001b[38;5;66;03m# Should return a dict containing keys ['actions', 'logits', 'log_probs', 'values'].\u001b[39;00m\n\u001b[1;32m      8\u001b[0m     inputs \u001b[38;5;241m=\u001b[39m T\u001b[38;5;241m.\u001b[39mfrom_numpy(inputs)\u001b[38;5;241m.\u001b[39mfloat()\n\u001b[0;32m---> 10\u001b[0m     logits, values \u001b[38;5;241m=\u001b[39m \u001b[38;5;28;43mself\u001b[39;49m\u001b[38;5;241;43m.\u001b[39;49m\u001b[43mmodel\u001b[49m\u001b[43m(\u001b[49m\u001b[43minputs\u001b[49m\u001b[43m)\u001b[49m\n\u001b[1;32m     11\u001b[0m     values \u001b[38;5;241m=\u001b[39m values\u001b[38;5;241m.\u001b[39msqueeze(\u001b[38;5;241m-\u001b[39m\u001b[38;5;241m1\u001b[39m)\n\u001b[1;32m     12\u001b[0m     dist \u001b[38;5;241m=\u001b[39m Categorical(logits\u001b[38;5;241m=\u001b[39mlogits)\n",
            "File \u001b[0;32m~/SharedDisk/ai_courses/Practical_RL/env/lib/python3.10/site-packages/torch/nn/modules/module.py:1518\u001b[0m, in \u001b[0;36mModule._wrapped_call_impl\u001b[0;34m(self, *args, **kwargs)\u001b[0m\n\u001b[1;32m   1516\u001b[0m     \u001b[38;5;28;01mreturn\u001b[39;00m \u001b[38;5;28mself\u001b[39m\u001b[38;5;241m.\u001b[39m_compiled_call_impl(\u001b[38;5;241m*\u001b[39margs, \u001b[38;5;241m*\u001b[39m\u001b[38;5;241m*\u001b[39mkwargs)  \u001b[38;5;66;03m# type: ignore[misc]\u001b[39;00m\n\u001b[1;32m   1517\u001b[0m \u001b[38;5;28;01melse\u001b[39;00m:\n\u001b[0;32m-> 1518\u001b[0m     \u001b[38;5;28;01mreturn\u001b[39;00m \u001b[38;5;28;43mself\u001b[39;49m\u001b[38;5;241;43m.\u001b[39;49m\u001b[43m_call_impl\u001b[49m\u001b[43m(\u001b[49m\u001b[38;5;241;43m*\u001b[39;49m\u001b[43margs\u001b[49m\u001b[43m,\u001b[49m\u001b[43m \u001b[49m\u001b[38;5;241;43m*\u001b[39;49m\u001b[38;5;241;43m*\u001b[39;49m\u001b[43mkwargs\u001b[49m\u001b[43m)\u001b[49m\n",
            "File \u001b[0;32m~/SharedDisk/ai_courses/Practical_RL/env/lib/python3.10/site-packages/torch/nn/modules/module.py:1527\u001b[0m, in \u001b[0;36mModule._call_impl\u001b[0;34m(self, *args, **kwargs)\u001b[0m\n\u001b[1;32m   1522\u001b[0m \u001b[38;5;66;03m# If we don't have any hooks, we want to skip the rest of the logic in\u001b[39;00m\n\u001b[1;32m   1523\u001b[0m \u001b[38;5;66;03m# this function, and just call forward.\u001b[39;00m\n\u001b[1;32m   1524\u001b[0m \u001b[38;5;28;01mif\u001b[39;00m \u001b[38;5;129;01mnot\u001b[39;00m (\u001b[38;5;28mself\u001b[39m\u001b[38;5;241m.\u001b[39m_backward_hooks \u001b[38;5;129;01mor\u001b[39;00m \u001b[38;5;28mself\u001b[39m\u001b[38;5;241m.\u001b[39m_backward_pre_hooks \u001b[38;5;129;01mor\u001b[39;00m \u001b[38;5;28mself\u001b[39m\u001b[38;5;241m.\u001b[39m_forward_hooks \u001b[38;5;129;01mor\u001b[39;00m \u001b[38;5;28mself\u001b[39m\u001b[38;5;241m.\u001b[39m_forward_pre_hooks\n\u001b[1;32m   1525\u001b[0m         \u001b[38;5;129;01mor\u001b[39;00m _global_backward_pre_hooks \u001b[38;5;129;01mor\u001b[39;00m _global_backward_hooks\n\u001b[1;32m   1526\u001b[0m         \u001b[38;5;129;01mor\u001b[39;00m _global_forward_hooks \u001b[38;5;129;01mor\u001b[39;00m _global_forward_pre_hooks):\n\u001b[0;32m-> 1527\u001b[0m     \u001b[38;5;28;01mreturn\u001b[39;00m \u001b[43mforward_call\u001b[49m\u001b[43m(\u001b[49m\u001b[38;5;241;43m*\u001b[39;49m\u001b[43margs\u001b[49m\u001b[43m,\u001b[49m\u001b[43m \u001b[49m\u001b[38;5;241;43m*\u001b[39;49m\u001b[38;5;241;43m*\u001b[39;49m\u001b[43mkwargs\u001b[49m\u001b[43m)\u001b[49m\n\u001b[1;32m   1529\u001b[0m \u001b[38;5;28;01mtry\u001b[39;00m:\n\u001b[1;32m   1530\u001b[0m     result \u001b[38;5;241m=\u001b[39m \u001b[38;5;28;01mNone\u001b[39;00m\n",
            "Cell \u001b[0;32mIn[98], line 45\u001b[0m, in \u001b[0;36mNetwork.forward\u001b[0;34m(self, obs)\u001b[0m\n\u001b[1;32m     43\u001b[0m out \u001b[38;5;241m=\u001b[39m F\u001b[38;5;241m.\u001b[39mrelu(out)\n\u001b[1;32m     44\u001b[0m out \u001b[38;5;241m=\u001b[39m \u001b[38;5;28mself\u001b[39m\u001b[38;5;241m.\u001b[39mflatten(out)\n\u001b[0;32m---> 45\u001b[0m out \u001b[38;5;241m=\u001b[39m \u001b[38;5;28;43mself\u001b[39;49m\u001b[38;5;241;43m.\u001b[39;49m\u001b[43mfc\u001b[49m\u001b[43m(\u001b[49m\u001b[43mout\u001b[49m\u001b[43m)\u001b[49m\n\u001b[1;32m     46\u001b[0m out \u001b[38;5;241m=\u001b[39m F\u001b[38;5;241m.\u001b[39mrelu(out)\n\u001b[1;32m     48\u001b[0m logits \u001b[38;5;241m=\u001b[39m \u001b[38;5;28mself\u001b[39m\u001b[38;5;241m.\u001b[39mactions(out)\n",
            "File \u001b[0;32m~/SharedDisk/ai_courses/Practical_RL/env/lib/python3.10/site-packages/torch/nn/modules/module.py:1518\u001b[0m, in \u001b[0;36mModule._wrapped_call_impl\u001b[0;34m(self, *args, **kwargs)\u001b[0m\n\u001b[1;32m   1516\u001b[0m     \u001b[38;5;28;01mreturn\u001b[39;00m \u001b[38;5;28mself\u001b[39m\u001b[38;5;241m.\u001b[39m_compiled_call_impl(\u001b[38;5;241m*\u001b[39margs, \u001b[38;5;241m*\u001b[39m\u001b[38;5;241m*\u001b[39mkwargs)  \u001b[38;5;66;03m# type: ignore[misc]\u001b[39;00m\n\u001b[1;32m   1517\u001b[0m \u001b[38;5;28;01melse\u001b[39;00m:\n\u001b[0;32m-> 1518\u001b[0m     \u001b[38;5;28;01mreturn\u001b[39;00m \u001b[38;5;28;43mself\u001b[39;49m\u001b[38;5;241;43m.\u001b[39;49m\u001b[43m_call_impl\u001b[49m\u001b[43m(\u001b[49m\u001b[38;5;241;43m*\u001b[39;49m\u001b[43margs\u001b[49m\u001b[43m,\u001b[49m\u001b[43m \u001b[49m\u001b[38;5;241;43m*\u001b[39;49m\u001b[38;5;241;43m*\u001b[39;49m\u001b[43mkwargs\u001b[49m\u001b[43m)\u001b[49m\n",
            "File \u001b[0;32m~/SharedDisk/ai_courses/Practical_RL/env/lib/python3.10/site-packages/torch/nn/modules/module.py:1527\u001b[0m, in \u001b[0;36mModule._call_impl\u001b[0;34m(self, *args, **kwargs)\u001b[0m\n\u001b[1;32m   1522\u001b[0m \u001b[38;5;66;03m# If we don't have any hooks, we want to skip the rest of the logic in\u001b[39;00m\n\u001b[1;32m   1523\u001b[0m \u001b[38;5;66;03m# this function, and just call forward.\u001b[39;00m\n\u001b[1;32m   1524\u001b[0m \u001b[38;5;28;01mif\u001b[39;00m \u001b[38;5;129;01mnot\u001b[39;00m (\u001b[38;5;28mself\u001b[39m\u001b[38;5;241m.\u001b[39m_backward_hooks \u001b[38;5;129;01mor\u001b[39;00m \u001b[38;5;28mself\u001b[39m\u001b[38;5;241m.\u001b[39m_backward_pre_hooks \u001b[38;5;129;01mor\u001b[39;00m \u001b[38;5;28mself\u001b[39m\u001b[38;5;241m.\u001b[39m_forward_hooks \u001b[38;5;129;01mor\u001b[39;00m \u001b[38;5;28mself\u001b[39m\u001b[38;5;241m.\u001b[39m_forward_pre_hooks\n\u001b[1;32m   1525\u001b[0m         \u001b[38;5;129;01mor\u001b[39;00m _global_backward_pre_hooks \u001b[38;5;129;01mor\u001b[39;00m _global_backward_hooks\n\u001b[1;32m   1526\u001b[0m         \u001b[38;5;129;01mor\u001b[39;00m _global_forward_hooks \u001b[38;5;129;01mor\u001b[39;00m _global_forward_pre_hooks):\n\u001b[0;32m-> 1527\u001b[0m     \u001b[38;5;28;01mreturn\u001b[39;00m \u001b[43mforward_call\u001b[49m\u001b[43m(\u001b[49m\u001b[38;5;241;43m*\u001b[39;49m\u001b[43margs\u001b[49m\u001b[43m,\u001b[49m\u001b[43m \u001b[49m\u001b[38;5;241;43m*\u001b[39;49m\u001b[38;5;241;43m*\u001b[39;49m\u001b[43mkwargs\u001b[49m\u001b[43m)\u001b[49m\n\u001b[1;32m   1529\u001b[0m \u001b[38;5;28;01mtry\u001b[39;00m:\n\u001b[1;32m   1530\u001b[0m     result \u001b[38;5;241m=\u001b[39m \u001b[38;5;28;01mNone\u001b[39;00m\n",
            "File \u001b[0;32m~/SharedDisk/ai_courses/Practical_RL/env/lib/python3.10/site-packages/torch/nn/modules/linear.py:114\u001b[0m, in \u001b[0;36mLinear.forward\u001b[0;34m(self, input)\u001b[0m\n\u001b[1;32m    113\u001b[0m \u001b[38;5;28;01mdef\u001b[39;00m \u001b[38;5;21mforward\u001b[39m(\u001b[38;5;28mself\u001b[39m, \u001b[38;5;28minput\u001b[39m: Tensor) \u001b[38;5;241m-\u001b[39m\u001b[38;5;241m>\u001b[39m Tensor:\n\u001b[0;32m--> 114\u001b[0m     \u001b[38;5;28;01mreturn\u001b[39;00m \u001b[43mF\u001b[49m\u001b[38;5;241;43m.\u001b[39;49m\u001b[43mlinear\u001b[49m\u001b[43m(\u001b[49m\u001b[38;5;28;43minput\u001b[39;49m\u001b[43m,\u001b[49m\u001b[43m \u001b[49m\u001b[38;5;28;43mself\u001b[39;49m\u001b[38;5;241;43m.\u001b[39;49m\u001b[43mweight\u001b[49m\u001b[43m,\u001b[49m\u001b[43m \u001b[49m\u001b[38;5;28;43mself\u001b[39;49m\u001b[38;5;241;43m.\u001b[39;49m\u001b[43mbias\u001b[49m\u001b[43m)\u001b[49m\n",
            "\u001b[0;31mKeyboardInterrupt\u001b[0m: "
          ]
        }
      ],
      "source": [
        "# Training loop\n",
        "\n",
        "from tqdm import trange\n",
        "\n",
        "save_dir = \"models\"\n",
        "os.makedirs(save_dir, exist_ok=True)\n",
        "\n",
        "for epoch in trange(epoch, num_epochs):\n",
        "    trajectory = runner.get_next()\n",
        "    a2c.step(trajectory)\n",
        "    scheduler.step()\n",
        "\n",
        "    if epoch % 1000 == 0:\n",
        "        eval_rewards = evaluate(eval_env, policy, n_games=50)\n",
        "        if eval_rewards.mean() > best_mean_reward:\n",
        "            best_mean_reward = eval_rewards.mean()\n",
        "            T.save(\n",
        "                model.state_dict(),\n",
        "                f\"{save_dir}/best_model.pt\",\n",
        "            )\n",
        "\n",
        "        T.save(model.state_dict(), f\"{save_dir}/model.pt\")"
      ]
    },
    {
      "cell_type": "code",
      "execution_count": 134,
      "metadata": {},
      "outputs": [
        {
          "name": "stdout",
          "output_type": "stream",
          "text": [
            "Your score: 93.75\n"
          ]
        }
      ],
      "source": [
        "# evaluation will take some time!\n",
        "m = Network()\n",
        "m.load_state_dict(T.load(f\"{save_dir}/best_model.pt\"))\n",
        "sessions = evaluate(eval_env, Policy(m), n_games=100)\n",
        "score = sessions.mean()\n",
        "print(f\"Your score: {score}\")"
      ]
    },
    {
      "cell_type": "markdown",
      "metadata": {},
      "source": [
        "## Monitor"
      ]
    },
    {
      "cell_type": "code",
      "execution_count": null,
      "metadata": {},
      "outputs": [],
      "source": [
        "from gymnasium.wrappers.record_video import RecordVideo\n",
        "env_monitor = RecordVideo(env=eval_env, video_folder=\"videos\")\n",
        "final_rewards = evaluate(\n",
        "    env_monitor,\n",
        "    policy,\n",
        "    n_games=20,\n",
        ")\n",
        "env_monitor.close()\n",
        "\n",
        "video_names = list(filter(lambda s: s.endswith(\".mp4\"), os.listdir(\"./videos/\")))"
      ]
    },
    {
      "cell_type": "code",
      "execution_count": 147,
      "metadata": {},
      "outputs": [
        {
          "name": "stdout",
          "output_type": "stream",
          "text": [
            "Final mean reward: 96.0\n"
          ]
        },
        {
          "data": {
            "text/html": [
              "\n",
              "<video width=\"640\" height=\"480\" controls>\n",
              "  <source src=\"./videos/rl-video-episode-1.mp4\" type=\"video/mp4\">\n",
              "</video>\n"
            ],
            "text/plain": [
              "<IPython.core.display.HTML object>"
            ]
          },
          "execution_count": 147,
          "metadata": {},
          "output_type": "execute_result"
        }
      ],
      "source": [
        "from IPython.display import HTML\n",
        "\n",
        "print(\"Final mean reward:\", np.mean(final_rewards))\n",
        "HTML(\n",
        "    \"\"\"\n",
        "<video width=\"640\" height=\"480\" controls>\n",
        "  <source src=\"{}\" type=\"video/mp4\">\n",
        "</video>\n",
        "\"\"\".format(\n",
        "        \"./videos/\" + np.random.choice(video_names)\n",
        "    )\n",
        ")"
      ]
    },
    {
      "cell_type": "markdown",
      "metadata": {
        "id": "ZDbgUdMq2EPu"
      },
      "source": [
        "### Target networks?\n",
        "\n",
        "You may recall a technique called \"target networks\" we used a few weeks ago when we trained a DQN agent to play Atari Breakout and wonder why we have not suggested using them here. The answer is that this is more historical than practical.\n",
        "\n",
        "While the \"chasing the target\" problem is still present in actor-critic value estimation and target networks do show up in follow-up papers, the original A3C/A2C papers do not mention them and do not explain this omission.\n",
        "\n",
        "The hypothesis why this may not be a big deal (compared to Q-learning) goes like this. An A3C/A2C agent selects actions based on policy, not an epsilon greedy exploration function, for which the argmax can change drastically due to tiny errors in function approximation. Therefore, errors in the value target caused by target chasing will cause less damage.\n",
        "\n",
        "Also, the actor-critic gradient relies on the advantage function $A(s_t, a_t) = Q(s_t, a_t) - V(s_t)$. Compare this to the $Q$-function $Q(s_t, a_t) = r(s_t, a_t) + \\gamma \\cdot \\mathbb{E}_{s_{t+1} \\mid s_t, a_t} V(s_{t+1})$ used in Q-learning and SARSA: we would expect that any bias in $V$-function approximation will be carried over from $V(s_{t+1})$ to $V(s_t)$ by gradient updates. However, in the formula for the advantage function the two approximations ($Q$-function and $V$-function) come with opposite signs, and thus the errors will cancel out.\n",
        "\n",
        "The last reason may be computational. Authors were concerned to beat existent algorithms in the wall-clock learning time, and any overhead of parameter copying (target network update) counted against this goal.\n"
      ]
    }
  ],
  "metadata": {
    "colab": {
      "provenance": []
    },
    "kernelspec": {
      "display_name": "Python 3",
      "name": "python3"
    },
    "language_info": {
      "codemirror_mode": {
        "name": "ipython",
        "version": 3
      },
      "file_extension": ".py",
      "mimetype": "text/x-python",
      "name": "python",
      "nbconvert_exporter": "python",
      "pygments_lexer": "ipython3",
      "version": "3.10.12"
    }
  },
  "nbformat": 4,
  "nbformat_minor": 0
}
